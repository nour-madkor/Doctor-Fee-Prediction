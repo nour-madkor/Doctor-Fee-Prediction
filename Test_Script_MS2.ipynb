{
 "cells": [
  {
   "cell_type": "code",
   "execution_count": 1,
   "metadata": {
    "id": "dBwTF7Bn9Tqp"
   },
   "outputs": [],
   "source": [
    "import pandas as pd\n",
    "import numpy as np\n",
    "import time\n",
    "from joblib import dump, load\n",
    "from sklearn.model_selection import train_test_split\n",
    "import re\n",
    "from sklearn.metrics import accuracy_score\n",
    "\n",
    "import warnings\n",
    "warnings.filterwarnings('ignore')"
   ]
  },
  {
   "cell_type": "code",
   "execution_count": 2,
   "metadata": {
    "id": "EhzK2JGg-BnB"
   },
   "outputs": [],
   "source": [
    "df = pd.read_csv(\"placeholder.csv\")"
   ]
  },
  {
   "cell_type": "code",
   "execution_count": 3,
   "metadata": {
    "id": "izOWmd0fAsqS"
   },
   "outputs": [],
   "source": [
    "selected_features = ['Total Time','General Physician','Specialization Count','City','Pediatrician','Urologist','Neurologist',\n",
    "                     'Total_Reviews', 'No_of_qualifications', 'Doctor Qualification', 'Experience_Years', 'Experience_Group',\n",
    "                     'Patient_Satisfaction_Rate', 'Wait_Time', 'Titles', 'Doctors Link', 'Avg_time_per_Patient',\n",
    "                     'Hospital Address', 'Gastroenterologist']"
   ]
  },
  {
   "cell_type": "code",
   "execution_count": 4,
   "metadata": {
    "id": "n_1ctvroBUJA"
   },
   "outputs": [],
   "source": [
    "top_15_specializations = ['General Physician','Gynecologist','Pediatrician','Orthopedic Surgeon','Dermatologist','Gastroenterologist','Pulmonologist',\n",
    "                          'Neuro Surgeon','Andrologist','Urologist','Neurologist','Nephrologist','Ent Specialist','Eye Surgeon','Ophthalmologist']"
   ]
  },
  {
   "cell_type": "code",
   "execution_count": null,
   "metadata": {},
   "outputs": [],
   "source": [
    "#variables\n",
    "city_replace = 'Lahore'\n",
    "qualification_replace = 'MBBS'\n",
    "Specialization_replace = 'General Physician'\n",
    "Hospital_Address_replace = 'No Address Available'\n",
    "Doctors_Link_replace = 'No Link Available'\n",
    "Titles_replace = 'Dr'\n",
    "Region_replace = 'Punjab Region'\n",
    "Fee_Category_replace = 'Medium-Priced'\n",
    "Experience_replace = 11.7\n",
    "Total_Reviews_replace = 91.6\n",
    "Patient_Satisfaction_Rate_replace = 96.6\n",
    "Avg_time_per_Patient_replace = 14.09\n",
    "Wait_Time_replace = 11.26\n",
    "Specialization_Count_replace = 1\n",
    "No_of_qualifications_replace = 2\n",
    "Total_Time_replace = 25.351875"
   ]
  },
  {
   "cell_type": "code",
   "execution_count": 5,
   "metadata": {
    "colab": {
     "base_uri": "https://localhost:8080/"
    },
    "id": "AsWhFUXfCMGE",
    "outputId": "2ae0b6a8-34e5-458d-9b07-d6d4dd00373d"
   },
   "outputs": [
    {
     "data": {
      "text/plain": [
       "15"
      ]
     },
     "execution_count": 5,
     "metadata": {},
     "output_type": "execute_result"
    }
   ],
   "source": [
    "len(top_15_specializations)"
   ]
  },
  {
   "cell_type": "markdown",
   "metadata": {},
   "source": [
    "# Handling nulls"
   ]
  },
  {
   "cell_type": "code",
   "execution_count": 38,
   "metadata": {
    "tags": []
   },
   "outputs": [
    {
     "data": {
      "text/plain": [
       "Index(['City', 'Doctor Qualification', 'Experience_Years', 'Total_Reviews',\n",
       "       'Patient_Satisfaction_Rate', 'Avg_time_per_Patient', 'Wait_Time',\n",
       "       'Hospital Address', 'Doctors Link', 'Fee Category', 'Titles', 'Region',\n",
       "       'Specialization Count', 'No_of_qualifications', 'Experience_Group',\n",
       "       'Total Time', 'Andrologist', 'Dermatologist', 'Ent Specialist',\n",
       "       'Eye Surgeon', 'Gastroenterologist', 'General Physician',\n",
       "       'Gynecologist', 'Nephrologist', 'Neuro Surgeon', 'Neurologist',\n",
       "       'Ophthalmologist', 'Orthopedic Surgeon', 'Others', 'Pediatrician',\n",
       "       'Pulmonologist', 'Urologist'],\n",
       "      dtype='object')"
      ]
     },
     "execution_count": 38,
     "metadata": {},
     "output_type": "execute_result"
    }
   ],
   "source": [
    "df.columns"
   ]
  },
  {
   "cell_type": "code",
   "execution_count": 37,
   "metadata": {},
   "outputs": [],
   "source": [
    "def fillna_with_replacements(df, replacements):\n",
    "    for column, replace_value in replacements.items():\n",
    "        df[column].fillna(replace_value, inplace=True)\n",
    "    return df\n",
    "\n",
    "# Replacements\n",
    "replacements = {\n",
    "    'City': 'Lahore',\n",
    "    'Doctor Qualification': 'MBBS',\n",
    "    'Experience_Years': 11.7,\n",
    "    'Total_Reviews': 91.6,\n",
    "    'Patient_Satisfaction_Rate': 96.6,\n",
    "    'Avg_time_per_Patient': 14.09,\n",
    "    'Wait_Time': 11.26,\n",
    "    'Hospital Address': 'No Address Available',\n",
    "    'Doctors Link': 'No Link Available',\n",
    "    'Fee Category': 'Medium-Priced',\n",
    "    'Titles': 'Dr',\n",
    "    'Region': 'Punjab Region',\n",
    "    'Specialization Count': 1,\n",
    "    'No_of_qualifications': 2,\n",
    "    'Total Time': 25.351875\n",
    "}\n",
    "\n",
    "df = fillna_with_replacements(df, replacements)"
   ]
  },
  {
   "cell_type": "markdown",
   "metadata": {
    "id": "CvT9SluOJKsO"
   },
   "source": [
    "# Loading"
   ]
  },
  {
   "cell_type": "code",
   "execution_count": 6,
   "metadata": {
    "colab": {
     "base_uri": "https://localhost:8080/",
     "height": 345
    },
    "id": "gk-yqtuM-868",
    "outputId": "b35de501-a128-45a5-cb10-4abfda803a92"
   },
   "outputs": [],
   "source": [
    "#load all encoders\n",
    "file_path = 'C:\\\\Users\\\\noura\\\\Downloads\\\\final ms2 ml\\\\Models\\\\fee_encoder.joblib'\n",
    "fee_encoder = load(file_path)\n",
    "\n",
    "file_path = 'C:\\\\Users\\\\noura\\\\Downloads\\\\final ms2 ml\\\\Models\\\\qualification_encoder.joblib'\n",
    "qualification_encoder = load(file_path)\n",
    "\n",
    "file_path = 'C:\\\\Users\\\\noura\\\\Downloads\\\\final ms2 ml\\\\Models\\\\Experience_Group_encoder.joblib'\n",
    "Experience_Group_encoder = load(file_path)\n",
    "\n",
    "file_path = 'C:\\\\Users\\\\noura\\\\Downloads\\\\final ms2 ml\\\\Models\\\\titles_encoder.joblib'\n",
    "titles_encoder = load(file_path)\n",
    "\n",
    "file_path = 'C:\\\\Users\\\\noura\\\\Downloads\\\\final ms2 ml\\\\Models\\\\city_encoder.joblib'\n",
    "city_encoder = load(file_path)\n",
    "\n",
    "file_path = 'C:\\\\Users\\\\noura\\\\Downloads\\\\final ms2 ml\\\\Models\\\\Region_encoder.joblib'\n",
    "Region_encoder = load(file_path)"
   ]
  },
  {
   "cell_type": "code",
   "execution_count": 7,
   "metadata": {
    "id": "Uj-X58VCHgM0"
   },
   "outputs": [],
   "source": [
    "#load models\n",
    "file_path = 'C:\\\\Users\\\\noura\\\\Downloads\\\\final ms2 ml\\\\Models\\\\LightGBM_model.joblib'\n",
    "LightGBM_model = load(file_path)\n",
    "\n",
    "file_path = 'C:\\\\Users\\\\noura\\\\Downloads\\\\final ms2 ml\\\\Models\\\\XGBoost_model.joblib'\n",
    "XGBoost_model = load(file_path)\n",
    "\n",
    "file_path = 'C:\\\\Users\\\\noura\\\\Downloads\\\\final ms2 ml\\\\Models\\\\Random Forest_model.joblib'\n",
    "Random_Forest_model = load(file_path)"
   ]
  },
  {
   "cell_type": "markdown",
   "metadata": {
    "id": "NNElOQYdJOGx"
   },
   "source": [
    "# Defining Functions"
   ]
  },
  {
   "cell_type": "code",
   "execution_count": 8,
   "metadata": {
    "id": "4PwixQvVhPLs"
   },
   "outputs": [],
   "source": [
    "#0\n",
    "def rename_cols(df):\n",
    "  df.rename(columns={'Fee(PKR)': 'Fee'}, inplace=True)\n",
    "  df.rename(columns={'Patient Satisfaction Rate(%age)': 'Patient_Satisfaction_Rate'}, inplace=True)\n",
    "  df.rename(columns={'Experience(Years)': 'Experience_Years'}, inplace=True)\n",
    "  df.rename(columns={'Avg Time to Patients(mins)': 'Avg_time_per_Patient'}, inplace=True)\n",
    "  df.rename(columns={'Wait Time(mins)': 'Wait_Time'}, inplace=True)\n",
    "\n",
    "# # Sample call\n",
    "rename_cols(df)"
   ]
  },
  {
   "cell_type": "code",
   "execution_count": 9,
   "metadata": {
    "id": "LKcKXrlphq88"
   },
   "outputs": [],
   "source": [
    "#1\n",
    "def extract_titles_and_clean_name(name):\n",
    "    # Define a regex pattern for titles\n",
    "    title_regex = r'(Dr\\.|Prof\\.|Mr\\.|Ms\\.|Colonel|Assoc\\. Prof\\. Dr\\.|Asst\\. Prof\\. Dr\\.|Prof\\. Dr\\.)'\n",
    "\n",
    "    # List of accepted titles\n",
    "    accepted_titles = [\"Dr\", \"Asst Prof Dr\", \"Prof, Dr\", \"Assoc Prof Dr\"]\n",
    "\n",
    "    # Find all titles in the name\n",
    "    titles = re.findall(title_regex, name)\n",
    "\n",
    "    # Clean the name by removing the extracted titles\n",
    "    cleaned_name = re.sub(title_regex, '', name).strip()\n",
    "\n",
    "    # Convert titles to a cleaned string without periods\n",
    "    title_str = ', '.join(titles).replace('.', '').strip()\n",
    "\n",
    "    # Check if the concatenated title string is in the list of accepted titles\n",
    "    if title_str not in accepted_titles:\n",
    "        title_str = 'others'\n",
    "\n",
    "    return title_str, cleaned_name\n",
    "\n",
    "# # Sample call\n",
    "df[['Titles', 'Doctor Name']] = df['Doctor Name'].apply(lambda x: pd.Series(extract_titles_and_clean_name(x)))"
   ]
  },
  {
   "cell_type": "code",
   "execution_count": 10,
   "metadata": {
    "id": "95GcJYjqiOkH"
   },
   "outputs": [],
   "source": [
    "#2\n",
    "def assign_region_clean_city(df):\n",
    "    # Define the city-region mappings\n",
    "    punjab_cities = [\n",
    "        'Lahore', 'Islamabad', 'Multan', 'Sahiwal', 'Okara', 'Faisalabad', 'Sargodha',\n",
    "        'Gujranwala', 'Rawalakot', 'Gujrat', 'Sialkot', 'Sheikhupura', 'Kasur', 'Narowal',\n",
    "        'Jhang', 'Khanewal', 'Toba Tek Singh', 'Chiniot', 'Pakpattan', 'Burewala', 'Vehari',\n",
    "        'Rahim Yar Khan', 'Bahawalpur', 'Bahawalnagar', 'Lodhran', 'Layyah', 'Mianwali',\n",
    "        'Muzaffar Garh', 'Dera Ghazi Khan', 'Bhakkar', 'Khushab', 'Mian Channu', 'Chichawatni',\n",
    "        'Gojra', 'Shorkot', 'Samundri', 'Tando Muhammad Khan', 'Talagang', 'Kamoke', 'Shahkot',\n",
    "        'Dinga', 'Bhalwal', 'Chakwal', 'Kharian', 'Daska', 'Hafizabad', 'Sadiqabad', 'Nankana Sahib',\n",
    "        'Pattoki', 'Alipur', \"Rajan Pur\", \"Jhelum\", \"Attock\", \"Lalamusa\", \"Wah Cantt\",\n",
    "        \"Dunyapur\", \"Khanpur\", \"Kot Addu\", \"Mandi Bahauddin\", \"Renala Khurd\",\n",
    "        \"Taxila\", \"Jauharabad\", \"Gujar Khan\", \"Wazirabad\", \"Pasrur\",\n",
    "        \"Muridke\", \"Chishtian\", \"Kabirwala\", \"Jaranwala\", \"Dijkot\"\n",
    "    ]\n",
    "\n",
    "    sindh_cities = [\n",
    "        'Karachi', 'Hyderabad', 'Mirpur Khas', 'Sukkur', 'Nawabshah', 'Larkana', 'Jacobabad',\n",
    "        'Khairpur', 'Thatta', 'Jamshoro', 'Ghotki', 'Shikarpur', 'Badin', 'Dadu', 'Khairpur Nathan Shah',\n",
    "        'Moro', 'Hala', \"Kandiaro\", \"Umarkot\", \"Kashmor\", \"Mithi\", \"Matiari\", \"Shahdadpur\", \"Baden\"\n",
    "    ]\n",
    "\n",
    "    kpk_cities = [\n",
    "        'Peshawar', 'Abbottabad', 'Nowshera', 'Swabi', 'Mardan', 'Mansehra', 'Haripur', 'Bannu',\n",
    "        'Kohat', 'Dera Ismail Khan', 'Mingora', 'Charsadda', 'Timergara', 'Buner', 'Chitral', 'Dargai',\n",
    "        \"Hangu\", \"Swat\", \"Malakand\", \"Bajaur Agency\"\n",
    "    ]\n",
    "\n",
    "    balochistan_cities = [\n",
    "        'Quetta', 'Turbat', 'Chaman', 'Khuzdar', 'Gwadar', 'Loralai', 'Zhob', 'Sibi', 'Nushki',\n",
    "        'Barkhan', 'Mastung', 'Duki'\n",
    "    ]\n",
    "\n",
    "    international_cities = [\n",
    "        \"Istanbul\", \"Riyadh\", \"Izmir\"\n",
    "    ]\n",
    "\n",
    "    kashmir_cities = [\n",
    "        'Gilgit', 'Kotli', 'Mirpur', 'Skardu'\n",
    "    ]\n",
    "\n",
    "    # Create a dictionary to map cities to their respective regions\n",
    "    city_regions = {\n",
    "        **{city: 'Punjab Region' for city in punjab_cities},\n",
    "        **{city: 'Sindh Region' for city in sindh_cities},\n",
    "        **{city: 'KPK Region' for city in kpk_cities},\n",
    "        **{city: 'Balochistan Region' for city in balochistan_cities},\n",
    "        **{city: 'International Region' for city in international_cities},\n",
    "        **{city: 'Kashmir Region' for city in kashmir_cities}\n",
    "    }\n",
    "\n",
    "    # Clean the 'City' column\n",
    "    df['City'] = df['City'].str.replace('-', ' ').str.title()\n",
    "\n",
    "    # Map the cities to their respective regions using the dictionary\n",
    "    df['Region'] = df['City'].map(city_regions)\n",
    "\n",
    "    return df\n",
    "# # Sample call\n",
    "df = assign_region_clean_city(df)"
   ]
  },
  {
   "cell_type": "code",
   "execution_count": 11,
   "metadata": {
    "id": "VgoM03m2ifSc"
   },
   "outputs": [],
   "source": [
    "#3\n",
    "def all_specialization_preprocessing(df):\n",
    "  specialization_mapping = {\n",
    "    \"Pediatrician,Pediatric\": \"Pediatrician\",\n",
    "    \"Lung Specialist\": \"Pulmonologist\",\n",
    "    \"Eye Surgeon,Eye Specialist\": \"Ophthalmologist\",\n",
    "    \"Sexologist\": \"Andrologist\",\n",
    "    \"Cosmetic Surgeon,Dermatologist\": \"Cosmetic Dermatologist\",\n",
    "    \"Internal Medicine Specialist,General Physician,Infectious Diseases\": \"Infectious Disease Specialist\",\n",
    "    'Dermatologist, Dermatologist, Allergy Specialist': 'Dermatologist, Allergy Specialist',\n",
    "    'Plastic Surgeon, Cosmetic Surgeon, Plastic Surgeon, Dermatologist': \"Cosmetic Dermatologist\",\n",
    "  }\n",
    "  #clean\n",
    "  def process_specialization(entry):\n",
    "    entry = entry.replace('/', ',')\n",
    "\n",
    "    specialties = [s.strip() for s in entry.split(',')]\n",
    "    unique_specialties = []\n",
    "    for specialty in specialties:\n",
    "        if specialty not in unique_specialties:\n",
    "            unique_specialties.append(specialty)\n",
    "    # Join back into a string\n",
    "    unique_specialties_str = ','.join(unique_specialties)\n",
    "    return unique_specialties_str\n",
    "  df['Specialization'] = df['Specialization'].apply(process_specialization)\n",
    "  #map\n",
    "  def map_specialization(specialization):\n",
    "      for key, value in specialization_mapping.items():\n",
    "          if key in specialization:\n",
    "              return value\n",
    "      return specialization\n",
    "  df['Specialization'] = df['Specialization'].apply(map_specialization)\n",
    "\n",
    "# # Sample call\n",
    "all_specialization_preprocessing(df)"
   ]
  },
  {
   "cell_type": "code",
   "execution_count": 12,
   "metadata": {
    "id": "Omd0jq5-ifPH"
   },
   "outputs": [],
   "source": [
    "#4\n",
    "def calc_Specialization_count(df):\n",
    "  df['Specialization Count'] = df['Specialization'].str.count(',') + 1\n",
    "\n",
    "# # Sample call\n",
    "calc_Specialization_count(df)"
   ]
  },
  {
   "cell_type": "code",
   "execution_count": 13,
   "metadata": {
    "id": "WEbRjZPWiOgt"
   },
   "outputs": [],
   "source": [
    "#5\n",
    "def clean_qualifications(df):\n",
    "    # Combine and update all replacements into a single dictionary\n",
    "    replacements = {\n",
    "        r'\\bPhD\\b': 'PHD', r'\\bM\\.D\\.\\b': 'MD', r'\\bD\\.M\\.S\\b': 'DMS',\n",
    "        r'\\bB\\.Sc\\.\\b': 'BSC', r'\\bM\\.S\\.\\b': 'MS', r'\\bM\\.Phil\\b': 'MPHIL',\n",
    "        r'\\bG\\.A\\.M\\.S\\b': 'GAMS', r'\\(D\\.H\\.B\\)': 'DHB', r'\\(D\\.Ac\\)': 'PHD',\n",
    "        r'Ophtamology': 'Ophthalmology', r'Gastroentrology': 'Gastroenterology',\n",
    "        r'OtoRhinoLaryngology': 'Otorhinolaryngology', r'Paediatrics': 'Pediatrics',\n",
    "        r'Pulmonology': 'Pulmonary', r'ENT': 'Otolaryngology', r'OrthopedicSurgery': 'Orthopedic Surgery',\n",
    "        r'NeuroSurgery': 'Neurosurgery', r'Medicine': 'Internal Medicine',\n",
    "        r'OBSTETRICS&GYNAECOLOGY': 'Obstetrics&Gynecology', r'Gynecology&amp;Obstetrics': 'Gynecology and Obstetrics',\n",
    "        r'Genecology&amp;Obstetrics': 'Gynecology and Obstetrics', r'OtorhinolaryngologicENT': 'Otorhinolaryngologic,ENT',\n",
    "        r'MasterOfSurgery': 'Master of Surgery', r'MD\\d*': 'MD', r'MDGastroenterology': 'MD,Gastroenterology',\n",
    "        r'FCPSPediatrics': 'FCPS,Pediatrics', r'MBBSMD': 'MBBS,MD', r'FRCSOrthopedics': 'FRCS,Orthopedics',\n",
    "        r'MCPSGynae/Obs': 'MCPS(Gynecology/Obs)', r'MD-RMP': 'MD, RMP', r'Masters\\(NeuroSurgeon\\)': 'Masters, Neurosurgery',\n",
    "        r'\\(|\\)': '', r'[^a-zA-Z,]': '', r'Ophthalmologist': 'Ophthalmology', r'GASTROENTEROLOGY': 'Gastroenterology',\n",
    "        r'MCPS,': 'MCPS', r'M\\.D': 'MD', 'MD 1': 'MD'\n",
    "    }\n",
    "\n",
    "    # Apply all replacements\n",
    "    df['Doctor Qualification'] = df['Doctor Qualification'].replace(replacements, regex=True)\n",
    "\n",
    "    # Additional replacements to handle specific concatenations\n",
    "    concatenations = {\n",
    "        r'FCPSOBSTETRICSampGYNAECOLOGY': 'FCPS,Obstetrics&Gynecology',\n",
    "        r'FCPSOtolaryngology': 'FCPS,Otolaryngology',\n",
    "        r'MCPSFCPS': 'MCPS,FCPS'\n",
    "    }\n",
    "    df['Doctor Qualification'] = df['Doctor Qualification'].replace(concatenations, regex=True)\n",
    "\n",
    "    # Remove all unnecessary spaces, then remove spaces around commas\n",
    "    df['Doctor Qualification'] = df['Doctor Qualification'].str.replace(r'\\s+', '')\n",
    "    df['Doctor Qualification'] = df['Doctor Qualification'].str.replace(r'\\s*,\\s*', ',', regex=True)\n",
    "\n",
    "    # Enhanced cleaning function\n",
    "    def enhance_cleaning(qualification):\n",
    "        # Replace HTML entities and correct specific cases\n",
    "        qualification = qualification.replace('&amp;', '&')\n",
    "        qualification = re.sub(r'(?<!\\w)([A-Z]+)(?!\\w)', lambda x: x.group(1), qualification)\n",
    "        qualification = qualification.replace('DiplomainTBandChestDiseases', 'DTBCD')\n",
    "\n",
    "        # Split, sort, and remove duplicates\n",
    "        parts = sorted(set(qualification.split(',')))  # Remove duplicates and sort\n",
    "        return ','.join(parts)\n",
    "\n",
    "    # Apply the enhanced cleaning function\n",
    "    df['Doctor Qualification'] = df['Doctor Qualification'].apply(enhance_cleaning)\n",
    "\n",
    "    return df\n",
    "# # Sample Call\n",
    "df = clean_qualifications(df)"
   ]
  },
  {
   "cell_type": "code",
   "execution_count": 14,
   "metadata": {
    "id": "HnAm9gFJiOfL"
   },
   "outputs": [],
   "source": [
    "#6\n",
    "def calc_No_of_qualifications(df):\n",
    "  df['No_of_qualifications'] = df['Doctor Qualification'].apply(lambda x: len(x.split(\",\")))\n",
    "\n",
    "# # Sample Call\n",
    "calc_No_of_qualifications(df)"
   ]
  },
  {
   "cell_type": "code",
   "execution_count": 15,
   "metadata": {
    "id": "Z9mtvasPiOdY"
   },
   "outputs": [],
   "source": [
    "#7\n",
    "def binning_Experience(df):\n",
    "  df['Experience_Years'] = df['Experience_Years'].round()\n",
    "  bins = [0, 5, 10, 15, 20, 25, float('inf')]\n",
    "  labels = ['Novice', 'Beginner', 'Competent', 'Proficient', 'Expert', 'Master']\n",
    "  df['Experience_Group'] = pd.cut(df['Experience_Years'], bins=bins, labels=labels, right=True)\n",
    "\n",
    "# # Sample Call\n",
    "binning_Experience(df)"
   ]
  },
  {
   "cell_type": "code",
   "execution_count": 16,
   "metadata": {
    "id": "_gF57FqLiOEc"
   },
   "outputs": [],
   "source": [
    "#8\n",
    "def calc_Total_time(df):\n",
    "  df['Total Time'] = df['Avg_time_per_Patient'] + df['Wait_Time']\n",
    "\n",
    "# # Sample Call\n",
    "calc_Total_time(df)"
   ]
  },
  {
   "cell_type": "code",
   "execution_count": 17,
   "metadata": {
    "id": "4O_FSOoViOA_"
   },
   "outputs": [],
   "source": [
    "#9\n",
    "cols_minmax = ['Experience_Years','Total_Reviews','Total Time']\n",
    "def apply_log_transform(df, columns):\n",
    "    for col in columns:\n",
    "        df[col] = np.log1p(df[col])\n",
    "\n",
    "# columns_to_transform = ['Experience_Years', 'Patient_Satisfaction_Rate',\n",
    "#                        'Avg_time_per_Patient', 'Wait_Time', 'Total Time','Total_Reviews']\n",
    "\n",
    "# # Sample Call\n",
    "apply_log_transform(df, cols_minmax)"
   ]
  },
  {
   "cell_type": "code",
   "execution_count": null,
   "metadata": {},
   "outputs": [],
   "source": [
    "def process_data(column_name, column_data, df):\n",
    "    print(f\"Processing column '{column_name}':\")\n",
    "    print(\"Original column data:\")\n",
    "    print(column_data)\n",
    "    \n",
    "    # Calculate mode of the column\n",
    "    mode_value = df[column_name].mode()[0]\n",
    "    \n",
    "    # Iterate over each row in the column data\n",
    "    for i in range(len(column_data)):\n",
    "        if column_data[i] not in df[column_name].values:\n",
    "            column_data[i] = mode_value"
   ]
  },
  {
   "cell_type": "code",
   "execution_count": null,
   "metadata": {},
   "outputs": [],
   "source": []
  },
  {
   "cell_type": "code",
   "execution_count": null,
   "metadata": {},
   "outputs": [],
   "source": []
  },
  {
   "cell_type": "markdown",
   "metadata": {
    "id": "D7p1Y6KxJYDa"
   },
   "source": [
    "# Encoding"
   ]
  },
  {
   "cell_type": "code",
   "execution_count": 19,
   "metadata": {},
   "outputs": [],
   "source": [
    "df['Fee Category'] = fee_encoder.transform(df[['Fee Category']])"
   ]
  },
  {
   "cell_type": "code",
   "execution_count": 20,
   "metadata": {},
   "outputs": [],
   "source": [
    "df['Specialization'] = df['Specialization'].apply(lambda x: x if x in top_15_specializations else 'Others')\n",
    "onehot_encoded = pd.get_dummies(df['Specialization']).astype(int)\n",
    "df = pd.concat([df, onehot_encoded], axis=1)"
   ]
  },
  {
   "cell_type": "code",
   "execution_count": 21,
   "metadata": {},
   "outputs": [],
   "source": [
    "df['Doctor Qualification'] = qualification_encoder.transform(df['Doctor Qualification'])"
   ]
  },
  {
   "cell_type": "code",
   "execution_count": 22,
   "metadata": {
    "tags": []
   },
   "outputs": [
    {
     "data": {
      "text/plain": [
       "Index(['Doctor Name', 'City', 'Specialization', 'Doctor Qualification',\n",
       "       'Experience_Years', 'Total_Reviews', 'Patient_Satisfaction_Rate',\n",
       "       'Avg_time_per_Patient', 'Wait_Time', 'Hospital Address', 'Doctors Link',\n",
       "       'Fee Category', 'Titles', 'Region', 'Specialization Count',\n",
       "       'No_of_qualifications', 'Experience_Group', 'Total Time', 'Andrologist',\n",
       "       'Dermatologist', 'Ent Specialist', 'Eye Surgeon', 'Gastroenterologist',\n",
       "       'General Physician', 'Gynecologist', 'Nephrologist', 'Neuro Surgeon',\n",
       "       'Neurologist', 'Ophthalmologist', 'Orthopedic Surgeon', 'Others',\n",
       "       'Pediatrician', 'Pulmonologist', 'Urologist'],\n",
       "      dtype='object')"
      ]
     },
     "execution_count": 22,
     "metadata": {},
     "output_type": "execute_result"
    }
   ],
   "source": [
    "df.columns"
   ]
  },
  {
   "cell_type": "code",
   "execution_count": 23,
   "metadata": {},
   "outputs": [],
   "source": [
    "df['Experience_Group'] = Experience_Group_encoder.transform(df['Experience_Group'])"
   ]
  },
  {
   "cell_type": "code",
   "execution_count": 24,
   "metadata": {},
   "outputs": [],
   "source": [
    "df['Titles'] = titles_encoder.transform(df['Titles'])"
   ]
  },
  {
   "cell_type": "code",
   "execution_count": 25,
   "metadata": {},
   "outputs": [],
   "source": [
    "df['Hospital Address'] = df['Hospital Address'].apply(lambda x: 0 if x == 'No Address Available' else 1)"
   ]
  },
  {
   "cell_type": "code",
   "execution_count": 26,
   "metadata": {},
   "outputs": [],
   "source": [
    "df['Doctors Link'] = df['Doctors Link'].apply(lambda x: 0 if x == 'No Link Available' else 1)"
   ]
  },
  {
   "cell_type": "code",
   "execution_count": 27,
   "metadata": {},
   "outputs": [],
   "source": [
    "df['City'] = city_encoder.transform(df['City'])"
   ]
  },
  {
   "cell_type": "code",
   "execution_count": 28,
   "metadata": {
    "id": "kgfVBJUOiN8i"
   },
   "outputs": [],
   "source": [
    "df['Region'] = Region_encoder.transform(df['Region'])"
   ]
  },
  {
   "cell_type": "code",
   "execution_count": 29,
   "metadata": {},
   "outputs": [],
   "source": [
    "df.drop(columns=[\"Doctor Name\",\"Specialization\"], inplace=True)"
   ]
  },
  {
   "cell_type": "markdown",
   "metadata": {
    "id": "Wn-zsQOWJbYl"
   },
   "source": [
    "# Spliting and testing"
   ]
  },
  {
   "cell_type": "code",
   "execution_count": 30,
   "metadata": {
    "id": "19OhGixVGfOa"
   },
   "outputs": [],
   "source": [
    "X = df.drop(columns=\"Fee Category\")\n",
    "y = df[\"Fee Category\"]"
   ]
  },
  {
   "cell_type": "code",
   "execution_count": 31,
   "metadata": {
    "id": "-UeJ2E5EJiwd"
   },
   "outputs": [
    {
     "data": {
      "text/html": [
       "<div>\n",
       "<style scoped>\n",
       "    .dataframe tbody tr th:only-of-type {\n",
       "        vertical-align: middle;\n",
       "    }\n",
       "\n",
       "    .dataframe tbody tr th {\n",
       "        vertical-align: top;\n",
       "    }\n",
       "\n",
       "    .dataframe thead th {\n",
       "        text-align: right;\n",
       "    }\n",
       "</style>\n",
       "<table border=\"1\" class=\"dataframe\">\n",
       "  <thead>\n",
       "    <tr style=\"text-align: right;\">\n",
       "      <th></th>\n",
       "      <th>City</th>\n",
       "      <th>Doctor Qualification</th>\n",
       "      <th>Experience_Years</th>\n",
       "      <th>Total_Reviews</th>\n",
       "      <th>Patient_Satisfaction_Rate</th>\n",
       "      <th>Avg_time_per_Patient</th>\n",
       "      <th>Wait_Time</th>\n",
       "      <th>Hospital Address</th>\n",
       "      <th>Doctors Link</th>\n",
       "      <th>Titles</th>\n",
       "      <th>...</th>\n",
       "      <th>Gynecologist</th>\n",
       "      <th>Nephrologist</th>\n",
       "      <th>Neuro Surgeon</th>\n",
       "      <th>Neurologist</th>\n",
       "      <th>Ophthalmologist</th>\n",
       "      <th>Orthopedic Surgeon</th>\n",
       "      <th>Others</th>\n",
       "      <th>Pediatrician</th>\n",
       "      <th>Pulmonologist</th>\n",
       "      <th>Urologist</th>\n",
       "    </tr>\n",
       "  </thead>\n",
       "  <tbody>\n",
       "    <tr>\n",
       "      <th>0</th>\n",
       "      <td>1.155479</td>\n",
       "      <td>1.062318</td>\n",
       "      <td>1.945910</td>\n",
       "      <td>2.484907</td>\n",
       "      <td>100</td>\n",
       "      <td>19</td>\n",
       "      <td>6</td>\n",
       "      <td>1</td>\n",
       "      <td>1</td>\n",
       "      <td>1.002109</td>\n",
       "      <td>...</td>\n",
       "      <td>0</td>\n",
       "      <td>0</td>\n",
       "      <td>0</td>\n",
       "      <td>0</td>\n",
       "      <td>0</td>\n",
       "      <td>0</td>\n",
       "      <td>0</td>\n",
       "      <td>0</td>\n",
       "      <td>0</td>\n",
       "      <td>0</td>\n",
       "    </tr>\n",
       "    <tr>\n",
       "      <th>1</th>\n",
       "      <td>0.903322</td>\n",
       "      <td>0.396594</td>\n",
       "      <td>0.693147</td>\n",
       "      <td>0.000000</td>\n",
       "      <td>94</td>\n",
       "      <td>14</td>\n",
       "      <td>11</td>\n",
       "      <td>0</td>\n",
       "      <td>0</td>\n",
       "      <td>1.002109</td>\n",
       "      <td>...</td>\n",
       "      <td>0</td>\n",
       "      <td>0</td>\n",
       "      <td>0</td>\n",
       "      <td>0</td>\n",
       "      <td>0</td>\n",
       "      <td>0</td>\n",
       "      <td>0</td>\n",
       "      <td>0</td>\n",
       "      <td>0</td>\n",
       "      <td>0</td>\n",
       "    </tr>\n",
       "    <tr>\n",
       "      <th>2</th>\n",
       "      <td>1.057468</td>\n",
       "      <td>1.192427</td>\n",
       "      <td>1.945910</td>\n",
       "      <td>2.302585</td>\n",
       "      <td>100</td>\n",
       "      <td>10</td>\n",
       "      <td>0</td>\n",
       "      <td>1</td>\n",
       "      <td>1</td>\n",
       "      <td>1.002109</td>\n",
       "      <td>...</td>\n",
       "      <td>0</td>\n",
       "      <td>0</td>\n",
       "      <td>0</td>\n",
       "      <td>0</td>\n",
       "      <td>0</td>\n",
       "      <td>0</td>\n",
       "      <td>0</td>\n",
       "      <td>0</td>\n",
       "      <td>0</td>\n",
       "      <td>0</td>\n",
       "    </tr>\n",
       "    <tr>\n",
       "      <th>3</th>\n",
       "      <td>1.168368</td>\n",
       "      <td>0.932210</td>\n",
       "      <td>2.484907</td>\n",
       "      <td>4.276666</td>\n",
       "      <td>96</td>\n",
       "      <td>18</td>\n",
       "      <td>10</td>\n",
       "      <td>1</td>\n",
       "      <td>1</td>\n",
       "      <td>1.002109</td>\n",
       "      <td>...</td>\n",
       "      <td>1</td>\n",
       "      <td>0</td>\n",
       "      <td>0</td>\n",
       "      <td>0</td>\n",
       "      <td>0</td>\n",
       "      <td>0</td>\n",
       "      <td>0</td>\n",
       "      <td>0</td>\n",
       "      <td>0</td>\n",
       "      <td>0</td>\n",
       "    </tr>\n",
       "    <tr>\n",
       "      <th>4</th>\n",
       "      <td>1.152318</td>\n",
       "      <td>1.192427</td>\n",
       "      <td>2.564949</td>\n",
       "      <td>5.298317</td>\n",
       "      <td>100</td>\n",
       "      <td>16</td>\n",
       "      <td>2</td>\n",
       "      <td>1</td>\n",
       "      <td>1</td>\n",
       "      <td>1.002109</td>\n",
       "      <td>...</td>\n",
       "      <td>0</td>\n",
       "      <td>0</td>\n",
       "      <td>0</td>\n",
       "      <td>0</td>\n",
       "      <td>0</td>\n",
       "      <td>0</td>\n",
       "      <td>0</td>\n",
       "      <td>0</td>\n",
       "      <td>0</td>\n",
       "      <td>0</td>\n",
       "    </tr>\n",
       "    <tr>\n",
       "      <th>...</th>\n",
       "      <td>...</td>\n",
       "      <td>...</td>\n",
       "      <td>...</td>\n",
       "      <td>...</td>\n",
       "      <td>...</td>\n",
       "      <td>...</td>\n",
       "      <td>...</td>\n",
       "      <td>...</td>\n",
       "      <td>...</td>\n",
       "      <td>...</td>\n",
       "      <td>...</td>\n",
       "      <td>...</td>\n",
       "      <td>...</td>\n",
       "      <td>...</td>\n",
       "      <td>...</td>\n",
       "      <td>...</td>\n",
       "      <td>...</td>\n",
       "      <td>...</td>\n",
       "      <td>...</td>\n",
       "      <td>...</td>\n",
       "      <td>...</td>\n",
       "    </tr>\n",
       "    <tr>\n",
       "      <th>2381</th>\n",
       "      <td>1.152318</td>\n",
       "      <td>1.192427</td>\n",
       "      <td>2.397895</td>\n",
       "      <td>2.484907</td>\n",
       "      <td>100</td>\n",
       "      <td>14</td>\n",
       "      <td>11</td>\n",
       "      <td>1</td>\n",
       "      <td>1</td>\n",
       "      <td>1.002109</td>\n",
       "      <td>...</td>\n",
       "      <td>0</td>\n",
       "      <td>0</td>\n",
       "      <td>0</td>\n",
       "      <td>0</td>\n",
       "      <td>0</td>\n",
       "      <td>0</td>\n",
       "      <td>1</td>\n",
       "      <td>0</td>\n",
       "      <td>0</td>\n",
       "      <td>0</td>\n",
       "    </tr>\n",
       "    <tr>\n",
       "      <th>2382</th>\n",
       "      <td>1.132140</td>\n",
       "      <td>1.168242</td>\n",
       "      <td>2.397895</td>\n",
       "      <td>2.079442</td>\n",
       "      <td>100</td>\n",
       "      <td>14</td>\n",
       "      <td>11</td>\n",
       "      <td>1</td>\n",
       "      <td>1</td>\n",
       "      <td>1.002109</td>\n",
       "      <td>...</td>\n",
       "      <td>0</td>\n",
       "      <td>0</td>\n",
       "      <td>0</td>\n",
       "      <td>0</td>\n",
       "      <td>0</td>\n",
       "      <td>0</td>\n",
       "      <td>0</td>\n",
       "      <td>1</td>\n",
       "      <td>0</td>\n",
       "      <td>0</td>\n",
       "    </tr>\n",
       "    <tr>\n",
       "      <th>2383</th>\n",
       "      <td>0.741365</td>\n",
       "      <td>1.203328</td>\n",
       "      <td>2.397895</td>\n",
       "      <td>4.644391</td>\n",
       "      <td>95</td>\n",
       "      <td>15</td>\n",
       "      <td>12</td>\n",
       "      <td>1</td>\n",
       "      <td>1</td>\n",
       "      <td>1.002109</td>\n",
       "      <td>...</td>\n",
       "      <td>0</td>\n",
       "      <td>0</td>\n",
       "      <td>0</td>\n",
       "      <td>0</td>\n",
       "      <td>0</td>\n",
       "      <td>0</td>\n",
       "      <td>0</td>\n",
       "      <td>0</td>\n",
       "      <td>0</td>\n",
       "      <td>0</td>\n",
       "    </tr>\n",
       "    <tr>\n",
       "      <th>2384</th>\n",
       "      <td>1.211507</td>\n",
       "      <td>1.185591</td>\n",
       "      <td>2.564949</td>\n",
       "      <td>3.178054</td>\n",
       "      <td>100</td>\n",
       "      <td>14</td>\n",
       "      <td>12</td>\n",
       "      <td>1</td>\n",
       "      <td>1</td>\n",
       "      <td>1.457490</td>\n",
       "      <td>...</td>\n",
       "      <td>0</td>\n",
       "      <td>1</td>\n",
       "      <td>0</td>\n",
       "      <td>0</td>\n",
       "      <td>0</td>\n",
       "      <td>0</td>\n",
       "      <td>0</td>\n",
       "      <td>0</td>\n",
       "      <td>0</td>\n",
       "      <td>0</td>\n",
       "    </tr>\n",
       "    <tr>\n",
       "      <th>2385</th>\n",
       "      <td>1.032250</td>\n",
       "      <td>1.400522</td>\n",
       "      <td>2.197225</td>\n",
       "      <td>0.693147</td>\n",
       "      <td>100</td>\n",
       "      <td>10</td>\n",
       "      <td>10</td>\n",
       "      <td>1</td>\n",
       "      <td>1</td>\n",
       "      <td>1.002109</td>\n",
       "      <td>...</td>\n",
       "      <td>0</td>\n",
       "      <td>1</td>\n",
       "      <td>0</td>\n",
       "      <td>0</td>\n",
       "      <td>0</td>\n",
       "      <td>0</td>\n",
       "      <td>0</td>\n",
       "      <td>0</td>\n",
       "      <td>0</td>\n",
       "      <td>0</td>\n",
       "    </tr>\n",
       "  </tbody>\n",
       "</table>\n",
       "<p>2386 rows × 31 columns</p>\n",
       "</div>"
      ],
      "text/plain": [
       "          City  Doctor Qualification  Experience_Years  Total_Reviews  \\\n",
       "0     1.155479              1.062318          1.945910       2.484907   \n",
       "1     0.903322              0.396594          0.693147       0.000000   \n",
       "2     1.057468              1.192427          1.945910       2.302585   \n",
       "3     1.168368              0.932210          2.484907       4.276666   \n",
       "4     1.152318              1.192427          2.564949       5.298317   \n",
       "...        ...                   ...               ...            ...   \n",
       "2381  1.152318              1.192427          2.397895       2.484907   \n",
       "2382  1.132140              1.168242          2.397895       2.079442   \n",
       "2383  0.741365              1.203328          2.397895       4.644391   \n",
       "2384  1.211507              1.185591          2.564949       3.178054   \n",
       "2385  1.032250              1.400522          2.197225       0.693147   \n",
       "\n",
       "      Patient_Satisfaction_Rate  Avg_time_per_Patient  Wait_Time  \\\n",
       "0                           100                    19          6   \n",
       "1                            94                    14         11   \n",
       "2                           100                    10          0   \n",
       "3                            96                    18         10   \n",
       "4                           100                    16          2   \n",
       "...                         ...                   ...        ...   \n",
       "2381                        100                    14         11   \n",
       "2382                        100                    14         11   \n",
       "2383                         95                    15         12   \n",
       "2384                        100                    14         12   \n",
       "2385                        100                    10         10   \n",
       "\n",
       "      Hospital Address  Doctors Link    Titles  ...  Gynecologist  \\\n",
       "0                    1             1  1.002109  ...             0   \n",
       "1                    0             0  1.002109  ...             0   \n",
       "2                    1             1  1.002109  ...             0   \n",
       "3                    1             1  1.002109  ...             1   \n",
       "4                    1             1  1.002109  ...             0   \n",
       "...                ...           ...       ...  ...           ...   \n",
       "2381                 1             1  1.002109  ...             0   \n",
       "2382                 1             1  1.002109  ...             0   \n",
       "2383                 1             1  1.002109  ...             0   \n",
       "2384                 1             1  1.457490  ...             0   \n",
       "2385                 1             1  1.002109  ...             0   \n",
       "\n",
       "      Nephrologist  Neuro Surgeon  Neurologist  Ophthalmologist  \\\n",
       "0                0              0            0                0   \n",
       "1                0              0            0                0   \n",
       "2                0              0            0                0   \n",
       "3                0              0            0                0   \n",
       "4                0              0            0                0   \n",
       "...            ...            ...          ...              ...   \n",
       "2381             0              0            0                0   \n",
       "2382             0              0            0                0   \n",
       "2383             0              0            0                0   \n",
       "2384             1              0            0                0   \n",
       "2385             1              0            0                0   \n",
       "\n",
       "      Orthopedic Surgeon  Others  Pediatrician  Pulmonologist  Urologist  \n",
       "0                      0       0             0              0          0  \n",
       "1                      0       0             0              0          0  \n",
       "2                      0       0             0              0          0  \n",
       "3                      0       0             0              0          0  \n",
       "4                      0       0             0              0          0  \n",
       "...                  ...     ...           ...            ...        ...  \n",
       "2381                   0       1             0              0          0  \n",
       "2382                   0       0             1              0          0  \n",
       "2383                   0       0             0              0          0  \n",
       "2384                   0       0             0              0          0  \n",
       "2385                   0       0             0              0          0  \n",
       "\n",
       "[2386 rows x 31 columns]"
      ]
     },
     "execution_count": 31,
     "metadata": {},
     "output_type": "execute_result"
    }
   ],
   "source": [
    "X"
   ]
  },
  {
   "cell_type": "code",
   "execution_count": 32,
   "metadata": {
    "tags": []
   },
   "outputs": [],
   "source": [
    "y_test = pd.DataFrame(y, columns=['Fee Category'])"
   ]
  },
  {
   "cell_type": "code",
   "execution_count": 33,
   "metadata": {
    "tags": []
   },
   "outputs": [
    {
     "data": {
      "text/html": [
       "<div>\n",
       "<style scoped>\n",
       "    .dataframe tbody tr th:only-of-type {\n",
       "        vertical-align: middle;\n",
       "    }\n",
       "\n",
       "    .dataframe tbody tr th {\n",
       "        vertical-align: top;\n",
       "    }\n",
       "\n",
       "    .dataframe thead th {\n",
       "        text-align: right;\n",
       "    }\n",
       "</style>\n",
       "<table border=\"1\" class=\"dataframe\">\n",
       "  <thead>\n",
       "    <tr style=\"text-align: right;\">\n",
       "      <th></th>\n",
       "      <th>Fee Category</th>\n",
       "    </tr>\n",
       "  </thead>\n",
       "  <tbody>\n",
       "    <tr>\n",
       "      <th>0</th>\n",
       "      <td>1.0</td>\n",
       "    </tr>\n",
       "    <tr>\n",
       "      <th>1</th>\n",
       "      <td>0.0</td>\n",
       "    </tr>\n",
       "    <tr>\n",
       "      <th>2</th>\n",
       "      <td>2.0</td>\n",
       "    </tr>\n",
       "    <tr>\n",
       "      <th>3</th>\n",
       "      <td>0.0</td>\n",
       "    </tr>\n",
       "    <tr>\n",
       "      <th>4</th>\n",
       "      <td>2.0</td>\n",
       "    </tr>\n",
       "    <tr>\n",
       "      <th>...</th>\n",
       "      <td>...</td>\n",
       "    </tr>\n",
       "    <tr>\n",
       "      <th>2381</th>\n",
       "      <td>2.0</td>\n",
       "    </tr>\n",
       "    <tr>\n",
       "      <th>2382</th>\n",
       "      <td>2.0</td>\n",
       "    </tr>\n",
       "    <tr>\n",
       "      <th>2383</th>\n",
       "      <td>2.0</td>\n",
       "    </tr>\n",
       "    <tr>\n",
       "      <th>2384</th>\n",
       "      <td>2.0</td>\n",
       "    </tr>\n",
       "    <tr>\n",
       "      <th>2385</th>\n",
       "      <td>0.0</td>\n",
       "    </tr>\n",
       "  </tbody>\n",
       "</table>\n",
       "<p>2386 rows × 1 columns</p>\n",
       "</div>"
      ],
      "text/plain": [
       "      Fee Category\n",
       "0              1.0\n",
       "1              0.0\n",
       "2              2.0\n",
       "3              0.0\n",
       "4              2.0\n",
       "...            ...\n",
       "2381           2.0\n",
       "2382           2.0\n",
       "2383           2.0\n",
       "2384           2.0\n",
       "2385           0.0\n",
       "\n",
       "[2386 rows x 1 columns]"
      ]
     },
     "execution_count": 33,
     "metadata": {},
     "output_type": "execute_result"
    }
   ],
   "source": [
    "y_test"
   ]
  },
  {
   "cell_type": "code",
   "execution_count": 34,
   "metadata": {
    "tags": []
   },
   "outputs": [],
   "source": [
    "X_test_selected = X[selected_features]"
   ]
  },
  {
   "cell_type": "code",
   "execution_count": 35,
   "metadata": {
    "id": "NdnpFgSLhq1m",
    "tags": []
   },
   "outputs": [
    {
     "name": "stdout",
     "output_type": "stream",
     "text": [
      "LightGBM_model accuracy: 0.932523051131601\n",
      "XGBoost_model accuracy: 0.9430008382229673\n",
      "Random_Forest_model accuracy: 0.9492875104777871\n"
     ]
    }
   ],
   "source": [
    "# Predict using all models\n",
    "y_test_pred = LightGBM_model.predict(X_test_selected)\n",
    "test_accuracy = accuracy_score(y_test, y_test_pred)\n",
    "print(f\"LightGBM_model accuracy: {test_accuracy}\")\n",
    "\n",
    "y_test_pred = XGBoost_model.predict(X_test_selected)\n",
    "test_accuracy = accuracy_score(y_test, y_test_pred)\n",
    "print(f\"XGBoost_model accuracy: {test_accuracy}\")\n",
    "\n",
    "y_test_pred = Random_Forest_model.predict(X_test_selected)\n",
    "test_accuracy = accuracy_score(y_test, y_test_pred)\n",
    "print(f\"Random_Forest_model accuracy: {test_accuracy}\")"
   ]
  }
 ],
 "metadata": {
  "colab": {
   "provenance": []
  },
  "kernelspec": {
   "display_name": "Python 3 (ipykernel)",
   "language": "python",
   "name": "python3"
  },
  "language_info": {
   "codemirror_mode": {
    "name": "ipython",
    "version": 3
   },
   "file_extension": ".py",
   "mimetype": "text/x-python",
   "name": "python",
   "nbconvert_exporter": "python",
   "pygments_lexer": "ipython3",
   "version": "3.11.5"
  }
 },
 "nbformat": 4,
 "nbformat_minor": 4
}
